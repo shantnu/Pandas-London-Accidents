{
 "cells": [
  {
   "cell_type": "markdown",
   "metadata": {},
   "source": [
    "Download Excel file from: https://data.gov.uk/dataset/road-accidents-safety-data/resource/80b76aec-a0a1-4e14-8235-09cc6b92574a\n",
    "\n",
    "Excel (or OpenOffice) can't open it, since it's too large. Can Python help?\n",
    "\n",
    "Note: If code freezes, kill Ipython and try again.\n"
   ]
  },
  {
   "cell_type": "code",
   "execution_count": null,
   "metadata": {
    "collapsed": true
   },
   "outputs": [],
   "source": [
    "import pandas as pd"
   ]
  },
  {
   "cell_type": "code",
   "execution_count": null,
   "metadata": {
    "collapsed": false
   },
   "outputs": [],
   "source": [
    "data = pd.read_csv(\"Accidents7904.csv\")"
   ]
  },
  {
   "cell_type": "code",
   "execution_count": null,
   "metadata": {
    "collapsed": false
   },
   "outputs": [],
   "source": [
    "len(data)"
   ]
  },
  {
   "cell_type": "code",
   "execution_count": null,
   "metadata": {
    "collapsed": false
   },
   "outputs": [],
   "source": [
    "accidents_sunday = data[data.Day_of_Week == 1]\n",
    "len(accidents_sunday)"
   ]
  },
  {
   "cell_type": "code",
   "execution_count": null,
   "metadata": {
    "collapsed": false
   },
   "outputs": [],
   "source": [
    "accidents_sunday_twenty_cars = data[(data.Day_of_Week == 1) & (data.Number_of_Vehicles > 20)]\n",
    "len(accidents_sunday_twenty_cars)"
   ]
  },
  {
   "cell_type": "code",
   "execution_count": null,
   "metadata": {
    "collapsed": false
   },
   "outputs": [],
   "source": [
    "accidents_sunday_twenty_cars_rain = data[\n",
    "    (data.Day_of_Week == 1) & (data.Number_of_Vehicles > 20) &\n",
    "    (data.Weather_Conditions == 2)]\n",
    "len(accidents_sunday_twenty_cars_rain)"
   ]
  },
  {
   "cell_type": "code",
   "execution_count": null,
   "metadata": {
    "collapsed": false
   },
   "outputs": [],
   "source": [
    "london_data = data[data['Police_Force'] == 1 & (data.Day_of_Week == 1)]\n",
    "len(london_data)"
   ]
  },
  {
   "cell_type": "code",
   "execution_count": null,
   "metadata": {
    "collapsed": false
   },
   "outputs": [],
   "source": [
    "london_data_2000 = london_data[\n",
    "    (pd.to_datetime(london_data['Date'], coerce=True) >\n",
    "        pd.to_datetime('2000-01-01', coerce=True)) &\n",
    "    (pd.to_datetime(london_data['Date'], coerce=True) <\n",
    "        pd.to_datetime('2000-12-31', coerce=True))\n",
    "]\n",
    "\n",
    "len(london_data_2000)"
   ]
  },
  {
   "cell_type": "code",
   "execution_count": null,
   "metadata": {
    "collapsed": true
   },
   "outputs": [],
   "source": [
    "writer = pd.ExcelWriter(\n",
    "    'London_Sundays_2000.xlsx', engine='xlsxwriter')\n",
    "london_data_2000.to_excel(writer, 'Sheet1')\n",
    "writer.save()"
   ]
  },
  {
   "cell_type": "code",
   "execution_count": null,
   "metadata": {
    "collapsed": true
   },
   "outputs": [],
   "source": []
  }
 ],
 "metadata": {
  "kernelspec": {
   "display_name": "Python 3",
   "language": "python",
   "name": "python3"
  },
  "language_info": {
   "codemirror_mode": {
    "name": "ipython",
    "version": 3
   },
   "file_extension": ".py",
   "mimetype": "text/x-python",
   "name": "python",
   "nbconvert_exporter": "python",
   "pygments_lexer": "ipython3",
   "version": "3.4.3"
  }
 },
 "nbformat": 4,
 "nbformat_minor": 0
}
